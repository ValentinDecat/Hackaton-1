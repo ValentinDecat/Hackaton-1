{
 "cells": [
  {
   "cell_type": "markdown",
   "metadata": {},
   "source": [
    "# Hackathon 1: descriptive statistics, estimation and bootstrapping\n",
    "\n",
    "This project illustrates the course LEPL1109 with an industrial applications of statistics. You will analyse the performance of wind farms located in the Walloon Brabant near Beauvechain and in the high Fens, close to Elsenborn. Each wind farm exploits 8 wind turbines. The kinetic power, noted Pk, (in watt) of one wind turbine is calculated with the formula \n",
    "\n",
    "Pk (W) = 0.5 x Rho x S x V^3\n",
    "\n",
    "Where \n",
    "\n",
    "S   : is the surface of the circle in square meters with a radius equal to the length of blades (32 m).\n",
    "Rho : is the air density (“masse volumique”). We consider here an average value of 1.2 kg/m^3\n",
    "V   : is the speed of wind in km/h.\n",
    "\n",
    "According to the Betz limit, only 59.3% of the kinetic energy from wind can be used to spin the turbine and generate electricity. In reality, turbines cannot reach the Betz limit, and the efficiency is estimated to 42% of the kinetic power. One wind turbine generates an electric power Pe = 0.42 x Pk. \n",
    "\n",
    "The wind turbins are stopped if the wind speed is above 90 km/h.\n",
    "\n",
    "The file “BeauvechainWind.csv” and “Elsenborn.csv” contains the average daily wind speeds, measured in km/h, at Beauvechain and  Elsenborn (source www. https://www.ecad.eu/)\n",
    "\n",
    "FILE FORMAT (MISSING VALUE CODE IS -9999):\n",
    "01-06 SOUID: Source identifier\n",
    "08-15 DATE : Date YYYYMMDD\n",
    "17-21 FG   : wind speed in 0.1 m/s\n",
    "23-27 Q_FG : Quality code for FG (0='valid'; 1='suspect'; 9='missing')\n",
    "\n",
    "\n",
    "## Report content\n",
    "\n",
    "•\tGrades are granted to the members whose names are in the Jupyter notebook. If your name doesn’t appear on the top of the notebook, you’ll get a 0, even though you are in a group on Moodle.\n",
    "\n",
    "•\tThe jupyter notebook must be compiled with printed results and next submitted via moodle. The absence of compiled results (or non-printed values) leads to a lower grade.\n",
    "\n",
    "## Report submission\n",
    "\n",
    "•\tDeadline, see moodle website. Submission after the deadline will not be accepted.\n",
    "\n",
    "•\tTo submit your report, go to the section “APP” on Moodle and the subsection “Soumission du rapport”. You can upload your work there. Once you are sure that it is your final version, click the button “Envoyer le devoir”. It is important that you don’t forget to click on this button ! \n",
    "\n",
    "•\tReports that have not been uploaded through Moodle will not be corrected.\n",
    "\n",
    "\n",
    "## Names and Noma of participants:\n",
    "\n",
    "Part. 1: \n",
    "\n",
    "Part. 2:\n",
    "\n",
    "Part. 3:\n",
    "\n",
    "Part. 4:\n"
   ]
  },
  {
   "cell_type": "markdown",
   "metadata": {},
   "source": [
    "------------------------------------------------------------------------------------------------------\n",
    "1.\tWrite a function computing the electric power capacity (in Mega Watts = 10^6 W), for the two wind farms using wind data from the 1/1/2017 to the 1/1/2021\n",
    "\n",
    "•\tDo not forget to set the production to zero if the wind speed is above 90 km. \n",
    "\n",
    "•\tTake care to converts units.\n",
    "\n",
    "•\tRemove all days with missing data (error code 1 or 9) for Beauvechain or Elsenborn\n",
    "\n",
    "------------------------------------------------------------------------------------------------------"
   ]
  },
  {
   "cell_type": "code",
   "execution_count": 1,
   "metadata": {},
   "outputs": [
    {
     "name": "stdout",
     "output_type": "stream",
     "text": [
      "17817.41694577494\n",
      "7989.294853189253\n"
     ]
    }
   ],
   "source": [
    "#!/usr/bin/env python\n",
    "import pandas\n",
    "import numpy\n",
    "from math import pi\n",
    "\n",
    "\n",
    "#Lis les fichiers csv et les convertis en array numpy de int\n",
    "data_Elsenborn = pandas.read_csv(\"Elsenborn.csv\",usecols=[1,2,3])\n",
    "data_Beauvechain = pandas.read_csv(\"Beauvechain.csv\",usecols=[1,2,3])\n",
    "data_Beauvechain = pandas.DataFrame.to_numpy(data_Beauvechain, dtype =int)\n",
    "data_Elsenborn = pandas.DataFrame.to_numpy(data_Elsenborn, dtype =int)\n",
    "\n",
    "#retrouve les indices de début de période 01/01/2017 et de fin 01/01/2021\n",
    "indice_debut_B = numpy.where(data_Beauvechain == 20170101)[0][0]\n",
    "indice_debut_E = numpy.where(data_Elsenborn == 20170101)[0][0]\n",
    "indice_fin_B = numpy.where(data_Beauvechain == 20210101)[0][0]\n",
    "indice_fin_E = numpy.where(data_Elsenborn == 20210101)[0][0]\n",
    "\n",
    "#réduit les array aux seules dates utiles\n",
    "data_Elsenborn = data_Elsenborn[indice_debut_E:indice_fin_E+1]\n",
    "data_Beauvechain = data_Beauvechain[indice_debut_B:indice_fin_B+1]\n",
    "\n",
    "\n",
    "#les données vents avec les erreurs filtrées\n",
    "dataE = [row[1] for row in data_Elsenborn]\n",
    "dataB = [row[1] for row in data_Beauvechain]\n",
    "#le nombre de jours total avec les erreurs\n",
    "nbrdays = len(dataE)\n",
    "\n",
    "mask = [ data_Elsenborn[i][2]!=0 or data_Beauvechain[i][2]!=0 for i in range(0, len(data_Elsenborn))]\n",
    "\n",
    "decal =0\n",
    "for i in range(0, len(mask)):\n",
    "\tif mask[i]:\n",
    "\t\tdataB = numpy.delete(dataB, i-decal)\n",
    "\t\tdataE = numpy.delete(dataE, i-decal)\n",
    "\t\tdecal+=1\n",
    "\n",
    "\n",
    "#Calcule la puissance d'une ferme de 8 éoliennes\n",
    "def Electric_Power(wind_speed):\n",
    "\tS = pi*32**2\n",
    "\tRho = 1.2\n",
    "\tK= 0.42\n",
    "\tval = 0\n",
    "\tfor i in wind_speed:\n",
    "\n",
    "\t\tif i<90:\n",
    "\t\t\tval += (0.5*K*Rho*S*(i/3.6)**3)*8\n",
    "\treturn val/10**6\n",
    "\n",
    "\n",
    "print(Electric_Power(dataB))\n",
    "print(Electric_Power(dataE))"
   ]
  },
  {
   "cell_type": "markdown",
   "metadata": {},
   "source": [
    "Comment briefly your results\n",
    "\n"
   ]
  },
  {
   "cell_type": "markdown",
   "metadata": {},
   "source": [
    "------------------------------------------------------------------------------------------------------------------------\n",
    "\n",
    "2.\tPlot histograms and box plots of electric power capacity (MW) from the 1/1/2017 to the 1/1/2021 (both sites). \n",
    "\n",
    "------------------------------------------------------------------------------------------------------------------------"
   ]
  },
  {
   "cell_type": "code",
   "execution_count": null,
   "metadata": {},
   "outputs": [],
   "source": [
    "# Code here\n",
    "\n"
   ]
  },
  {
   "cell_type": "markdown",
   "metadata": {},
   "source": [
    "------------------------------------------------------------------------------------------------------\n",
    "\n",
    "3.\tCompare the following statistics of both sites and draw a first conclusions\n",
    "\n",
    "•\tAverage and median powers for each farm (MW)\n",
    "\n",
    "•\tStandard deviations of powers, for each farm (MW)\n",
    "\n",
    "•\t5% and 95% percentiles of powers, for each farm (MW)\n",
    "\n",
    "The average and standard deviation of the total power capacities (Beauvechain + Elsenborn).\n",
    "\n",
    "------------------------------------------------------------------------------------------------------"
   ]
  },
  {
   "cell_type": "code",
   "execution_count": 1,
   "metadata": {},
   "outputs": [],
   "source": [
    "# Code here\n",
    "\n"
   ]
  },
  {
   "cell_type": "markdown",
   "metadata": {},
   "source": [
    "Comment briefly your results\n",
    "\n"
   ]
  },
  {
   "cell_type": "markdown",
   "metadata": {},
   "source": [
    "\n",
    "------------------------------------------------------------------------------------------------------\n",
    "4.\tFit Gamma and Inverse Gaussian distributions to wind speeds (in Km/h) in Beauvechain and Elsenborn. Estimate their parameters by log-likelihood maximization (MLE). Which distribution is the best one? Compare the histograms of winds with the fitted pdf’s on the same plot.\n",
    "------------------------------------------------------------------------------------------------------"
   ]
  },
  {
   "cell_type": "code",
   "execution_count": 56,
   "metadata": {},
   "outputs": [
    {
     "name": "stdout",
     "output_type": "stream",
     "text": [
      "Log-likelihood for gamma fit for Beauvechain : -460.54395380257256\n",
      "Log-likelihood for gamma fit for Elsenborn : -415.5239931000092\n",
      "Log-likelihood for inverse gaussian fit for Beauvechain: -589.0085936118625\n",
      "Log-likelihood for inverse gaussion fit for Elsenborn : -573.9546541139622\n"
     ]
    },
    {
     "data": {
      "text/plain": "<Figure size 640x480 with 1 Axes>",
      "image/png": "[encoded data removed]"
     },
     "metadata": {},
     "output_type": "display_data"
    }
   ],
   "source": [
    "import numpy as np\n",
    "import scipy.stats as stats\n",
    "import matplotlib.pyplot as plt\n",
    "\n",
    "def getGamma(data, color, name):\n",
    "\tparameters = stats.gamma.fit(data, floc=0, method='MLE')\n",
    "\tx = np.linspace(\n",
    "\t\tstats.gamma.ppf(0.01, parameters[0]),\n",
    "\t\tstats.gamma.ppf(0.999999999999999, parameters[0]), 100\n",
    "\t)\n",
    "\ty = stats.gamma.pdf(x, a=parameters[0], loc=parameters[1], scale=parameters[2])\n",
    "\tloglikelihoodData = stats.gamma.logpdf(x, a=parameters[0], loc=parameters[1], scale=parameters[2])\n",
    "\tloglikelihoodSum = loglikelihoodData.sum()\n",
    "\tplt.plot(x, y, color, label='Gamma '+name)\n",
    "\tplt.legend()\n",
    "\treturn loglikelihoodSum\n",
    "\n",
    "def getGauss(data, color, name):\n",
    "\tparameters = stats.invgauss.fit(data, method='MLE')\n",
    "\tx = np.linspace(stats.invgauss.ppf(0.01, np.mean(data)), stats.invgauss.ppf(0.95, np.mean(data)), 100)\n",
    "\ty = stats.invgauss.pdf(x, mu=parameters[0], loc=parameters[1], scale=parameters[2])\n",
    "\tloglikelihoodData = stats.invgauss.logpdf(x, mu=parameters[0], loc=parameters[1], scale=parameters[2])\n",
    "\tloglikelihoodSum = loglikelihoodData.sum()\n",
    "\tplt.plot(x, y, color, label='Inv Gauss '+name)\n",
    "\tplt.legend()\n",
    "\treturn loglikelihoodSum\n",
    "\n",
    "\n",
    "plt.hist(dataB, density=True, bins=60, color='g', histtype=\"bar\", label=\"Beauvechain data\")\n",
    "plt.hist(dataE, density=True, bins=60, color='y', histtype=\"step\", label=\"Elsenborn data\")\n",
    "plt.legend()\n",
    "\n",
    "print(f\"Log-likelihood for gamma fit for Beauvechain : {getGamma(dataB, 'c', 'Beauvechain')}\")\n",
    "print(f\"Log-likelihood for gamma fit for Elsenborn : {getGamma(dataE, 'r', 'Elsenborn')}\")\n",
    "print(f\"Log-likelihood for inverse gaussian fit for Beauvechain: {getGauss(dataB, 'b', 'Beauvechain')}\")\n",
    "print(f\"Log-likelihood for inverse gaussion fit for Elsenborn : {getGauss(dataE, 'm', 'Elsenborn')}\")"
   ]
  },
  {
   "cell_type": "markdown",
   "metadata": {},
   "source": [
    "Comment briefly your results\n",
    "\n"
   ]
  },
  {
   "cell_type": "code",
   "execution_count": 1,
   "metadata": {},
   "outputs": [],
   "source": [
    "# Code here, inverse Gaussian\n",
    "\n"
   ]
  },
  {
   "cell_type": "markdown",
   "metadata": {},
   "source": [
    "Comment briefly your results\n"
   ]
  },
  {
   "cell_type": "markdown",
   "metadata": {},
   "source": [
    "------------------------------------------------------------------------------------------------------\n",
    "5.\tCompute numerically for both sites, the following statistics \n",
    "\n",
    "•\tExpected and median powers for each farm (MW)\n",
    "\n",
    "•\tStandard deviation of powers for each farm (MW)\n",
    "\n",
    "•\t5% and 95% percentiles of powers for each farm (MW)\n",
    "\n",
    "Use the best distributions fitted in Question 4 (not observed values)\n",
    "\n",
    "------------------------------------------------------------------------------------------------------"
   ]
  },
  {
   "cell_type": "code",
   "execution_count": null,
   "metadata": {},
   "outputs": [],
   "source": [
    "# Code here\n",
    "\n"
   ]
  },
  {
   "cell_type": "markdown",
   "metadata": {},
   "source": [
    "Comment briefly your results\n",
    "\n"
   ]
  },
  {
   "cell_type": "markdown",
   "metadata": {},
   "source": [
    "------------------------------------------------------------------------------------------------------\n",
    "\n",
    "6.\tSame question as Q.4 but this time, you fit the best distribution by the methods of moments MM, (in Python). Compare parameter estimates and plot pdf’s obtained by MLE and MM for both wind farms.\n",
    "\n",
    "------------------------------------------------------------------------------------------------------"
   ]
  },
  {
   "cell_type": "code",
   "execution_count": 77,
   "metadata": {
    "scrolled": true
   },
   "outputs": [],
   "source": [
    "# if gamma :\n",
    "alpha = muX**2/sgX**2\n",
    "beta = sgX**2/muX\n",
    "y = stats.gamma.pdf(x, a=alpha, scale=beta)\n",
    "plt.plot(x, y, 'b-', lw=2, alpha=0.6, label='Gamma pdf')\n",
    "\n"
   ]
  },
  {
   "cell_type": "markdown",
   "metadata": {},
   "source": [
    "------------------------------------------------------------------------------------------------------\n",
    "\n",
    "7.\tBootstrap 1000 times a sample of 500 daily speeds of wind for both wind farms and compute a 5% confidence interval for parameter(s) estimates for the best distribution of Question 4) modelling winds in Beauvechain. How do you interpret the results\n",
    "\n",
    "------------------------------------------------------------------------------------------------------"
   ]
  },
  {
   "cell_type": "code",
   "execution_count": 6,
   "metadata": {},
   "outputs": [],
   "source": [
    "#code here\n",
    "\n"
   ]
  },
  {
   "cell_type": "markdown",
   "metadata": {},
   "source": [
    "Comment briefly your results\n",
    "\n"
   ]
  },
  {
   "cell_type": "markdown",
   "metadata": {},
   "source": [
    "------------------------------------------------------------------------------------------------------\n",
    "\n",
    "8.\tLet us denote by X the wind speed observed at Beauvechain on a day of the year. The winds observed over 30 days are denoted by (X1,…,X30). They are realizations of X, a random variable with the distribution fitted in Question 4. If M=max{ X1,…,X30},  \n",
    "\n",
    "•\tfind the statistical law of M (equation requested, hint use the cdf of X) \n",
    "\n",
    "•\tplot the pdf and cdf of M. \n",
    "\n",
    "•\tDetermine the wind value, p5, such that  P(M>p5)=95%.\n",
    "\n",
    "\n",
    "------------------------------------------------------------------------------------------------------"
   ]
  },
  {
   "cell_type": "markdown",
   "metadata": {},
   "source": [
    "Comment briefly your results\n",
    "\n"
   ]
  },
  {
   "cell_type": "code",
   "execution_count": null,
   "metadata": {},
   "outputs": [],
   "source": [
    "# Code here\n",
    "\n"
   ]
  }
 ],
 "metadata": {
  "kernelspec": {
   "display_name": "Python 3 (ipykernel)",
   "language": "python",
   "name": "python3"
  },
  "language_info": {
   "codemirror_mode": {
    "name": "ipython",
    "version": 3
   },
   "file_extension": ".py",
   "mimetype": "text/x-python",
   "name": "python",
   "nbconvert_exporter": "python",
   "pygments_lexer": "ipython3",
   "version": "3.9.7"
  }
 },
 "nbformat": 4,
 "nbformat_minor": 4
}
